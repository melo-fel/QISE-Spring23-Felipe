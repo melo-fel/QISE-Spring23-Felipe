{
 "cells": [
  {
   "cell_type": "code",
   "execution_count": 1,
   "id": "cbb1fec7-8edc-4713-a975-20b530550b4c",
   "metadata": {},
   "outputs": [
    {
     "data": {
      "image/png": "[encoded data removed]",
      "text/plain": [
       "<Figure size 185.453x200.667 with 1 Axes>"
      ]
     },
     "execution_count": 1,
     "metadata": {},
     "output_type": "execute_result"
    }
   ],
   "source": [
    "from qiskit import QuantumCircuit\n",
    "circ = QuantumCircuit(1, 1)\n",
    "circ.h(0)\n",
    "circ.draw(output='mpl')"
   ]
  },
  {
   "cell_type": "code",
   "execution_count": 11,
   "id": "aed186f7-5ff2-4848-8723-f05496740ca6",
   "metadata": {},
   "outputs": [
    {
     "name": "stdout",
     "output_type": "stream",
     "text": [
      "0\n",
      "1\n",
      "2\n",
      "3\n",
      "4\n",
      "5\n",
      "6\n",
      "7\n",
      "8\n",
      "9\n",
      "10\n"
     ]
    }
   ],
   "source": [
    "pull = [0, 1, 2, 3, 4, 5, 6, 7, 8, 9, 10]\n",
    "for i in pull:\n",
    "    print(i)"
   ]
  },
  {
   "cell_type": "code",
   "execution_count": 14,
   "id": "c258692a-32a4-4f05-b8f6-3c7459fa2c71",
   "metadata": {},
   "outputs": [],
   "source": [
    "def modelCircuit(self, printC=False):#, backend='qasm_simulator', shots=1000):\n",
    "    \"\"\"\n",
    "    Set up and run the model with the predefined encoders and ansatzes for the circuit. \n",
    "    \"\"\"\n",
    "\n",
    "    self.quantum_register = qk.QuantumRegister(self.n_quantum)\n",
    "    self.classical_register = qk.ClassicalRegister(self.n_classic)\n",
    "    self.circuit = qk.QuantumCircuit(self.quantum_register, self.classical_register)\n",
    "\n",
    "\n",
    "    self.model()\n",
    "\n",
    "    job = qk.execute(self.circuit,\n",
    "                    backend=qk.Aer.get_backend(self.backend),\n",
    "                    shots=self.shots,\n",
    "                    seed_simulator=self.seed\n",
    "                    )\n",
    "    results = job.result().get_counts(self.circuit)\n",
    "    self.model_prediction = results['1'] / float(self.shots)\n",
    "\n",
    "    if printC: \n",
    "        print(self.circuit)\n",
    "    del(self.circuit)\n",
    "\n",
    "    return self.model_prediction\n",
    "\n",
    "def basicModel(self):\n",
    "    \"\"\"\n",
    "    scaling with pi to avoid mapping 0 and 1 to the same rotation.\n",
    "    \"\"\"\n",
    "    for i, feature in enumerate(self.feature_vector):\n",
    "        #self.circuit.ry(np.pi*feature, self.quantum_register[i])\n",
    "        self.circuit.rx(np.pi*feature, self.quantum_register[i])\n",
    "        self.circuit.ry(self.theta[i], self.quantum_register[i])\n",
    "\n",
    "    for qubit in range(self.n_quantum - 1):\n",
    "        self.circuit.cx(self.quantum_register[qubit], self.quantum_register[qubit + 1])\n",
    "\n",
    "    self.circuit.ry(self.theta[-1], self.quantum_register[-1])\n",
    "    self.circuit.measure(self.quantum_register[-1], self.classical_register)"
   ]
  },
  {
   "cell_type": "code",
   "execution_count": null,
   "id": "1b8c22b1-4d8a-481c-9c2a-3f2f91fbc20d",
   "metadata": {},
   "outputs": [],
   "source": []
  }
 ],
 "metadata": {
  "kernelspec": {
   "display_name": "Python 3 [Default]",
   "language": "python",
   "name": "python3"
  },
  "language_info": {
   "codemirror_mode": {
    "name": "ipython",
    "version": 3
   },
   "file_extension": ".py",
   "mimetype": "text/x-python",
   "name": "python",
   "nbconvert_exporter": "python",
   "pygments_lexer": "ipython3",
   "version": "3.9.10"
  }
 },
 "nbformat": 4,
 "nbformat_minor": 5
}
